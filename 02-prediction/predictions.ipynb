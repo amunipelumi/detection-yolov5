{
 "cells": [
  {
   "cell_type": "code",
   "execution_count": 6,
   "id": "b22ccd3e",
   "metadata": {},
   "outputs": [],
   "source": [
    "import cv2\n",
    "from yolo_preds import YoloPred "
   ]
  },
  {
   "cell_type": "code",
   "execution_count": 7,
   "id": "aae7f92a",
   "metadata": {},
   "outputs": [],
   "source": [
    "yp = YoloPred('./Model/weights/best.onnx', '../00-data-prep/data.yaml')"
   ]
  },
  {
   "cell_type": "code",
   "execution_count": 8,
   "id": "2688feb9",
   "metadata": {},
   "outputs": [],
   "source": [
    "img = cv2.imread('./data-files/2396885720_47cc2ed672_o.jpg')\n",
    "\n",
    "cv2.imshow('Actual image', img)\n",
    "cv2.waitKey(0)\n",
    "cv2.destroyAllWindows() "
   ]
  },
  {
   "cell_type": "code",
   "execution_count": 9,
   "id": "2da584b5",
   "metadata": {},
   "outputs": [],
   "source": [
    "# predictions\n",
    "img_pred = yp.predictions(img) "
   ]
  },
  {
   "cell_type": "code",
   "execution_count": 10,
   "id": "fe0f06f4",
   "metadata": {},
   "outputs": [],
   "source": [
    "cv2.imshow('Predictions', img_pred)\n",
    "cv2.waitKey(0)\n",
    "cv2.destroyAllWindows() "
   ]
  },
  {
   "cell_type": "code",
   "execution_count": null,
   "id": "80f36b12-7da8-4276-bd95-86f92b01b0d6",
   "metadata": {},
   "outputs": [],
   "source": []
  },
  {
   "cell_type": "code",
   "execution_count": 2,
   "id": "d13ba8d8",
   "metadata": {},
   "outputs": [],
   "source": [
    "# cap = cv2.VideoCapture('./data-files/720p.mp4')\n",
    "\n",
    "# while True:\n",
    "#     ret, frame = cap.read()\n",
    "#     if ret == False:\n",
    "#         print('unable to read video')\n",
    "#         break\n",
    "        \n",
    "#     pred = yp.predictions(frame)\n",
    "    \n",
    "#     cv2.imshow('Real time detection', pred)\n",
    "#     if cv2.waitKey(1) == 27:\n",
    "#         break\n",
    "        \n",
    "# cv2.destroyAllWindows()\n",
    "# cap.release()"
   ]
  },
  {
   "cell_type": "code",
   "execution_count": null,
   "id": "83d7a031",
   "metadata": {},
   "outputs": [],
   "source": []
  }
 ],
 "metadata": {
  "kernelspec": {
   "display_name": "yolo-1",
   "language": "python",
   "name": "yolo-1"
  },
  "language_info": {
   "codemirror_mode": {
    "name": "ipython",
    "version": 3
   },
   "file_extension": ".py",
   "mimetype": "text/x-python",
   "name": "python",
   "nbconvert_exporter": "python",
   "pygments_lexer": "ipython3",
   "version": "3.10.11"
  }
 },
 "nbformat": 4,
 "nbformat_minor": 5
}
